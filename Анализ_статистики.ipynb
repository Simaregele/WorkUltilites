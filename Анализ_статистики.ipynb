{
  "nbformat": 4,
  "nbformat_minor": 0,
  "metadata": {
    "colab": {
      "name": "Анализ статистики",
      "provenance": [],
      "authorship_tag": "ABX9TyOTGT5IX7GAO/uBAl5kELeU",
      "include_colab_link": true
    },
    "kernelspec": {
      "name": "python3",
      "display_name": "Python 3"
    }
  },
  "cells": [
    {
      "cell_type": "markdown",
      "metadata": {
        "id": "view-in-github",
        "colab_type": "text"
      },
      "source": [
        "<a href=\"https://colab.research.google.com/github/Simaregele/WorkUltilites/blob/main/%D0%90%D0%BD%D0%B0%D0%BB%D0%B8%D0%B7_%D1%81%D1%82%D0%B0%D1%82%D0%B8%D1%81%D1%82%D0%B8%D0%BA%D0%B8.ipynb\" target=\"_parent\"><img src=\"https://colab.research.google.com/assets/colab-badge.svg\" alt=\"Open In Colab\"/></a>"
      ]
    },
    {
      "cell_type": "code",
      "metadata": {
        "id": "jGEEI0jateqg"
      },
      "source": [
        "import pandas as pd\n",
        "import glob\n",
        "import datetime\n"
      ],
      "execution_count": null,
      "outputs": []
    },
    {
      "cell_type": "code",
      "metadata": {
        "id": "nLogelhCt9nN"
      },
      "source": [
        "# объединяем файлы\n",
        "path = r'/content' # use your path\n",
        "all_files = glob.glob(path + \"/*.csv\")\n",
        "\n",
        "li = []\n",
        "\n",
        "for filename in all_files:\n",
        "    df = pd.read_csv(filename, index_col=None, header=0)\n",
        "    li.append(df)\n",
        "\n",
        "frame = pd.concat(li, axis=0, ignore_index=True)"
      ],
      "execution_count": null,
      "outputs": []
    },
    {
      "cell_type": "code",
      "metadata": {
        "id": "ppQcpZZkuiMn"
      },
      "source": [
        "filterMails = ['naumovden59@gmail.com', 'arseniy.perm@gmail.com', 'mrsimaregele@gmail.com',\n",
        "       'uioiopu@gmail.com', 'ak@spotsmap.com',\n",
        "       'mk@spotsmap.com', 'booking@spotsmap.com', 'kozlov@inmoloko.ru',\n",
        "       'arko87@rambler.ru', 'ys@inmoloko.ru', 'dn@spotsmap.com',\n",
        "       'arko87@yandex.ru', 'dn@inmoloko.ru']"
      ],
      "execution_count": null,
      "outputs": []
    },
    {
      "cell_type": "code",
      "metadata": {
        "id": "s4Q_JRUmwbuK"
      },
      "source": [
        "df = frame[~frame.email.isin(filterMails)] #not in filterMails\n",
        "df = df[df['from'] != 'booking@spotsmap.com']"
      ],
      "execution_count": null,
      "outputs": []
    },
    {
      "cell_type": "code",
      "metadata": {
        "colab": {
          "base_uri": "https://localhost:8080/"
        },
        "id": "kiIIiX-zxMn1",
        "outputId": "91ee5632-733d-4e6e-8c2f-4a9bb50540b6"
      },
      "source": [
        "df.processed = pd.to_datetime(df.processed)\n",
        "df.date = df.processed.dt.date"
      ],
      "execution_count": null,
      "outputs": [
        {
          "output_type": "stream",
          "text": [
            "/usr/local/lib/python3.6/dist-packages/ipykernel_launcher.py:2: UserWarning: Pandas doesn't allow columns to be created via a new attribute name - see https://pandas.pydata.org/pandas-docs/stable/indexing.html#attribute-access\n",
            "  \n"
          ],
          "name": "stderr"
        }
      ]
    },
    {
      "cell_type": "code",
      "metadata": {
        "id": "Lqq668g3zGNh"
      },
      "source": [
        "# today = datetime.date.today()\n",
        "# notToday = datetime.date.today() - datetime.timedelta(days=110)"
      ],
      "execution_count": null,
      "outputs": []
    },
    {
      "cell_type": "code",
      "metadata": {
        "id": "OiIhYL931zwn"
      },
      "source": [
        "click = df[df.event == 'click'].drop_duplicates(subset=['email'])\n",
        "clickList = list(click.email.unique())\n",
        "open = df[(df.event == 'open') & (df.event != 'click') & (~df.email.isin(clickList))].drop_duplicates(subset=['email'])\n",
        "openList = list(open.email.unique())\n",
        "group_unsubscribe = df[(df.event == 'group_unsubscribe') & (df.event != 'open') & (df.event != 'click') &\n",
        "                       (~df.email.isin(openList))].drop_duplicates(subset=['email'])\n",
        "group_unsubscribeList = list(group_unsubscribe.email.unique())\n",
        "bounce = df[(df.event == 'bounce') & (df.event != 'group_unsubscribe') & (df.event != 'open') & (df.event != 'click') & \n",
        "            (~df.email.isin(group_unsubscribeList))].drop_duplicates(subset=['email'])\n",
        "bounceList = list(bounce.email.unique())\n",
        "deferred = df[(df.event == 'deferred') & (df.event != 'bounce') & (df.event != 'group_unsubscribe') & (df.event != 'open') & (df.event != 'click') \n",
        "& (~df.email.isin(bounceList))].drop_duplicates(subset=['email'])\n",
        "deferredList = list(deferred.email.unique())"
      ],
      "execution_count": null,
      "outputs": []
    },
    {
      "cell_type": "code",
      "metadata": {
        "id": "b7Ta0jQb-OPO"
      },
      "source": [
        "with pd.ExcelWriter('output.xlsx') as writer:  \n",
        "    click[['event', 'email']].to_excel(writer, sheet_name='click')\n",
        "    open[['event', 'email']].to_excel(writer, sheet_name='open')\n",
        "    group_unsubscribe[['event', 'email']].to_excel(writer, sheet_name='group_unsubscribe')\n",
        "    bounce[['event', 'email']].to_excel(writer, sheet_name='bounce')\n",
        "    deferred[['event', 'email']].to_excel(writer, sheet_name='deferred')"
      ],
      "execution_count": null,
      "outputs": []
    },
    {
      "cell_type": "code",
      "metadata": {
        "colab": {
          "base_uri": "https://localhost:8080/",
          "height": 16
        },
        "id": "VfgP0fwa9jXM",
        "outputId": "f6d5c75d-7438-441e-abf3-28c443f4b353"
      },
      "source": [
        "from google.colab import files\n",
        "files.download('output.xlsx') "
      ],
      "execution_count": null,
      "outputs": [
        {
          "output_type": "display_data",
          "data": {
            "application/javascript": [
              "\n",
              "    async function download(id, filename, size) {\n",
              "      if (!google.colab.kernel.accessAllowed) {\n",
              "        return;\n",
              "      }\n",
              "      const div = document.createElement('div');\n",
              "      const label = document.createElement('label');\n",
              "      label.textContent = `Downloading \"${filename}\": `;\n",
              "      div.appendChild(label);\n",
              "      const progress = document.createElement('progress');\n",
              "      progress.max = size;\n",
              "      div.appendChild(progress);\n",
              "      document.body.appendChild(div);\n",
              "\n",
              "      const buffers = [];\n",
              "      let downloaded = 0;\n",
              "\n",
              "      const channel = await google.colab.kernel.comms.open(id);\n",
              "      // Send a message to notify the kernel that we're ready.\n",
              "      channel.send({})\n",
              "\n",
              "      for await (const message of channel.messages) {\n",
              "        // Send a message to notify the kernel that we're ready.\n",
              "        channel.send({})\n",
              "        if (message.buffers) {\n",
              "          for (const buffer of message.buffers) {\n",
              "            buffers.push(buffer);\n",
              "            downloaded += buffer.byteLength;\n",
              "            progress.value = downloaded;\n",
              "          }\n",
              "        }\n",
              "      }\n",
              "      const blob = new Blob(buffers, {type: 'application/binary'});\n",
              "      const a = document.createElement('a');\n",
              "      a.href = window.URL.createObjectURL(blob);\n",
              "      a.download = filename;\n",
              "      div.appendChild(a);\n",
              "      a.click();\n",
              "      div.remove();\n",
              "    }\n",
              "  "
            ],
            "text/plain": [
              "<IPython.core.display.Javascript object>"
            ]
          },
          "metadata": {
            "tags": []
          }
        },
        {
          "output_type": "display_data",
          "data": {
            "application/javascript": [
              "download(\"download_a30f6653-7f8e-41e5-919c-a403526b2b6b\", \"output.xlsx\", 8163)"
            ],
            "text/plain": [
              "<IPython.core.display.Javascript object>"
            ]
          },
          "metadata": {
            "tags": []
          }
        }
      ]
    },
    {
      "cell_type": "code",
      "metadata": {
        "id": "Z4BlfXKJDoAm"
      },
      "source": [
        ""
      ],
      "execution_count": null,
      "outputs": []
    }
  ]
}